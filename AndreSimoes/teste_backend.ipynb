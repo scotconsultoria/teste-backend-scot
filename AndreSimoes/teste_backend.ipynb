{
 "cells": [
  {
   "cell_type": "code",
   "execution_count": 1,
   "metadata": {},
   "outputs": [],
   "source": [
    "import pandas as pd\n",
    "from sqlalchemy import create_engine, text, exc\n",
    "from dotenv import load_dotenv\n",
    "import os"
   ]
  },
  {
   "cell_type": "code",
   "execution_count": 2,
   "metadata": {},
   "outputs": [],
   "source": [
    "#Importando planilhas\n",
    "df_milho = pd.read_excel('Grao.xlsx', sheet_name=\"Milho\")\n",
    "df_soja = pd.read_excel('Grao.xlsx', sheet_name=\"Soja\")"
   ]
  },
  {
   "cell_type": "code",
   "execution_count": 3,
   "metadata": {},
   "outputs": [],
   "source": [
    "#Preencher os valores nulos com base no ultimo valor não nulo\n",
    "df_milho.fillna(method='ffill', inplace=True)\n",
    "df_soja.fillna(method='ffill', inplace=True)"
   ]
  },
  {
   "cell_type": "code",
   "execution_count": 4,
   "metadata": {},
   "outputs": [
    {
     "data": {
      "text/html": [
       "<div>\n",
       "<style scoped>\n",
       "    .dataframe tbody tr th:only-of-type {\n",
       "        vertical-align: middle;\n",
       "    }\n",
       "\n",
       "    .dataframe tbody tr th {\n",
       "        vertical-align: top;\n",
       "    }\n",
       "\n",
       "    .dataframe thead th {\n",
       "        text-align: right;\n",
       "    }\n",
       "</style>\n",
       "<table border=\"1\" class=\"dataframe\">\n",
       "  <thead>\n",
       "    <tr style=\"text-align: right;\">\n",
       "      <th></th>\n",
       "      <th>Estado</th>\n",
       "      <th>Cidade</th>\n",
       "      <th>Compra</th>\n",
       "    </tr>\n",
       "  </thead>\n",
       "  <tbody>\n",
       "    <tr>\n",
       "      <th>0</th>\n",
       "      <td>PR</td>\n",
       "      <td>Paranaguá</td>\n",
       "      <td>74.00</td>\n",
       "    </tr>\n",
       "    <tr>\n",
       "      <th>1</th>\n",
       "      <td>PR</td>\n",
       "      <td>Campo Mourão</td>\n",
       "      <td>71.00</td>\n",
       "    </tr>\n",
       "    <tr>\n",
       "      <th>2</th>\n",
       "      <td>PR</td>\n",
       "      <td>Cascavel</td>\n",
       "      <td>70.00</td>\n",
       "    </tr>\n",
       "    <tr>\n",
       "      <th>3</th>\n",
       "      <td>PR</td>\n",
       "      <td>Maringá</td>\n",
       "      <td>71.00</td>\n",
       "    </tr>\n",
       "    <tr>\n",
       "      <th>4</th>\n",
       "      <td>PR</td>\n",
       "      <td>Ponta Grossa</td>\n",
       "      <td>72.50</td>\n",
       "    </tr>\n",
       "    <tr>\n",
       "      <th>5</th>\n",
       "      <td>PR</td>\n",
       "      <td>Guarapuava</td>\n",
       "      <td>71.00</td>\n",
       "    </tr>\n",
       "    <tr>\n",
       "      <th>6</th>\n",
       "      <td>SP</td>\n",
       "      <td>São Paulo</td>\n",
       "      <td>75.50</td>\n",
       "    </tr>\n",
       "    <tr>\n",
       "      <th>7</th>\n",
       "      <td>SP</td>\n",
       "      <td>Campinas</td>\n",
       "      <td>75.50</td>\n",
       "    </tr>\n",
       "    <tr>\n",
       "      <th>8</th>\n",
       "      <td>SP</td>\n",
       "      <td>Sorocaba</td>\n",
       "      <td>71.50</td>\n",
       "    </tr>\n",
       "    <tr>\n",
       "      <th>9</th>\n",
       "      <td>SP</td>\n",
       "      <td>Mogiana</td>\n",
       "      <td>66.32</td>\n",
       "    </tr>\n",
       "  </tbody>\n",
       "</table>\n",
       "</div>"
      ],
      "text/plain": [
       "  Estado        Cidade  Compra\n",
       "0     PR     Paranaguá   74.00\n",
       "1     PR  Campo Mourão   71.00\n",
       "2     PR      Cascavel   70.00\n",
       "3     PR       Maringá   71.00\n",
       "4     PR  Ponta Grossa   72.50\n",
       "5     PR    Guarapuava   71.00\n",
       "6     SP     São Paulo   75.50\n",
       "7     SP      Campinas   75.50\n",
       "8     SP      Sorocaba   71.50\n",
       "9     SP       Mogiana   66.32"
      ]
     },
     "metadata": {},
     "output_type": "display_data"
    },
    {
     "data": {
      "text/html": [
       "<div>\n",
       "<style scoped>\n",
       "    .dataframe tbody tr th:only-of-type {\n",
       "        vertical-align: middle;\n",
       "    }\n",
       "\n",
       "    .dataframe tbody tr th {\n",
       "        vertical-align: top;\n",
       "    }\n",
       "\n",
       "    .dataframe thead th {\n",
       "        text-align: right;\n",
       "    }\n",
       "</style>\n",
       "<table border=\"1\" class=\"dataframe\">\n",
       "  <thead>\n",
       "    <tr style=\"text-align: right;\">\n",
       "      <th></th>\n",
       "      <th>Estado</th>\n",
       "      <th>Cidade</th>\n",
       "      <th>Compra</th>\n",
       "    </tr>\n",
       "  </thead>\n",
       "  <tbody>\n",
       "    <tr>\n",
       "      <th>0</th>\n",
       "      <td>PR</td>\n",
       "      <td>Paranaguá</td>\n",
       "      <td>143.75</td>\n",
       "    </tr>\n",
       "    <tr>\n",
       "      <th>1</th>\n",
       "      <td>PR</td>\n",
       "      <td>Ponta Grossa</td>\n",
       "      <td>139.50</td>\n",
       "    </tr>\n",
       "    <tr>\n",
       "      <th>2</th>\n",
       "      <td>PR</td>\n",
       "      <td>Norte</td>\n",
       "      <td>133.50</td>\n",
       "    </tr>\n",
       "    <tr>\n",
       "      <th>3</th>\n",
       "      <td>PR</td>\n",
       "      <td>Oeste</td>\n",
       "      <td>133.00</td>\n",
       "    </tr>\n",
       "    <tr>\n",
       "      <th>4</th>\n",
       "      <td>PR</td>\n",
       "      <td>Sudoestes</td>\n",
       "      <td>131.50</td>\n",
       "    </tr>\n",
       "    <tr>\n",
       "      <th>5</th>\n",
       "      <td>RS</td>\n",
       "      <td>Rio Grande</td>\n",
       "      <td>147.50</td>\n",
       "    </tr>\n",
       "    <tr>\n",
       "      <th>6</th>\n",
       "      <td>RS</td>\n",
       "      <td>Missões</td>\n",
       "      <td>142.00</td>\n",
       "    </tr>\n",
       "    <tr>\n",
       "      <th>7</th>\n",
       "      <td>RS</td>\n",
       "      <td>Planalto Central</td>\n",
       "      <td>142.00</td>\n",
       "    </tr>\n",
       "    <tr>\n",
       "      <th>8</th>\n",
       "      <td>MT</td>\n",
       "      <td>Cuiabá</td>\n",
       "      <td>126.00</td>\n",
       "    </tr>\n",
       "    <tr>\n",
       "      <th>9</th>\n",
       "      <td>MT</td>\n",
       "      <td>Rondonópolis</td>\n",
       "      <td>126.00</td>\n",
       "    </tr>\n",
       "  </tbody>\n",
       "</table>\n",
       "</div>"
      ],
      "text/plain": [
       "  Estado            Cidade  Compra\n",
       "0     PR         Paranaguá  143.75\n",
       "1     PR      Ponta Grossa  139.50\n",
       "2     PR             Norte  133.50\n",
       "3     PR             Oeste  133.00\n",
       "4     PR         Sudoestes  131.50\n",
       "5     RS        Rio Grande  147.50\n",
       "6     RS           Missões  142.00\n",
       "7     RS  Planalto Central  142.00\n",
       "8     MT            Cuiabá  126.00\n",
       "9     MT      Rondonópolis  126.00"
      ]
     },
     "metadata": {},
     "output_type": "display_data"
    }
   ],
   "source": [
    "#Visualização dos dados\n",
    "display(df_milho.head(10))\n",
    "display(df_soja.head(10))"
   ]
  },
  {
   "cell_type": "code",
   "execution_count": 5,
   "metadata": {},
   "outputs": [],
   "source": [
    "# Carrega as variáveis do arquivo .env\n",
    "load_dotenv()\n",
    "      \n",
    "# atribui as variaveis do aquivo\n",
    "host=os.getenv(\"DB_HOST\")\n",
    "user=os.getenv(\"DB_USER\")\n",
    "password=os.getenv(\"DB_PASSWORD\")\n",
    "database=os.getenv(\"DB_DATABASE\")\n",
    "\n",
    "#cria a conexao\n",
    "engine = create_engine(fr'mysql+pymysql://{user}:{password}@{host}/{database}')"
   ]
  },
  {
   "cell_type": "code",
   "execution_count": 6,
   "metadata": {},
   "outputs": [
    {
     "name": "stdout",
     "output_type": "stream",
     "text": [
      "34 linhas inseridas em tb_milho\n",
      "33 linhas inseridas em tb_soja\n"
     ]
    }
   ],
   "source": [
    "#Insere os dados do df_milho na tabela tb_milho no Mysql \n",
    "try:\n",
    "    result = df_milho.to_sql('tb_milho', engine, if_exists='append', index=False )\n",
    "    print(f'{result} linhas inseridas em tb_milho')\n",
    "\n",
    "    result = df_soja.to_sql('tb_soja', engine, if_exists='append', index=False )\n",
    "    print(f'{result} linhas inseridas em tb_soja')\n",
    "except exc.SQLAlchemyError as error:\n",
    "    print(f'Erro ao conectar ao banco de dados: {error}')"
   ]
  },
  {
   "cell_type": "code",
   "execution_count": 17,
   "metadata": {},
   "outputs": [
    {
     "name": "stdout",
     "output_type": "stream",
     "text": [
      "registros em tb_milho: 34\n",
      "registros em tb_soja: 33\n"
     ]
    }
   ],
   "source": [
    "# Conferindo os dados inseridos no DB\n",
    "try:\n",
    "    with engine.connect() as conn:\n",
    "        tb_milho = conn.execute(text(\"SELECT * FROM tb_milho\")).fetchall()\n",
    "        tb_soja = conn.execute(text(\"SELECT * FROM tb_soja\")).fetchall()\n",
    "        print('registros em tb_milho:', len(tb_milho))\n",
    "        print('registros em tb_soja:', len(tb_soja))\n",
    "except exc.SQLAlchemyError as error:\n",
    "    print(f'Erro ao conectar ao banco de dados: {error}')"
   ]
  }
 ],
 "metadata": {
  "kernelspec": {
   "display_name": "Python 3",
   "language": "python",
   "name": "python3"
  },
  "language_info": {
   "codemirror_mode": {
    "name": "ipython",
    "version": 3
   },
   "file_extension": ".py",
   "mimetype": "text/x-python",
   "name": "python",
   "nbconvert_exporter": "python",
   "pygments_lexer": "ipython3",
   "version": "3.10.10"
  },
  "orig_nbformat": 4
 },
 "nbformat": 4,
 "nbformat_minor": 2
}
